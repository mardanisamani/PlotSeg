{
 "cells": [
  {
   "cell_type": "code",
   "execution_count": null,
   "metadata": {},
   "outputs": [],
   "source": [
    "import numpy as np\n",
    "import pandas as pd\n",
    "\n",
    "import json\n",
    "import matplotlib.pyplot as plt\n",
    "\n",
    "import skimage\n",
    "import skimage.io as io\n",
    "import skimage.transform as tr\n",
    "import skimage.color as color\n",
    "\n",
    "import skimage.morphology as morph\n",
    "\n",
    "from matplotlib.patches import Rectangle\n",
    "import numpy as np\n",
    "import pandas as pd\n",
    "\n",
    "from scipy.optimize import differential_evolution,shgo\n",
    "\n",
    "import xml.etree.ElementTree as ET\n",
    "import os"
   ]
  },
  {
   "cell_type": "code",
   "execution_count": null,
   "metadata": {},
   "outputs": [],
   "source": [
    "def get_mask(bnd_box_array,shape=None):\n",
    "    if shape == None:  mask = np.zeros([bnd_box_array[-1][1],bnd_box_array[-1][3]])\n",
    "    else: mask = np.zeros(shape)\n",
    "    \n",
    "    for box in bnd_box_array:\n",
    "        box = box.astype(int)\n",
    "        mask[box[0]:box[1],box[2]:box[3]] = 1\n",
    "    return mask\n",
    "\n",
    "def get_ortho_and_mask(img_date):\n",
    "    ortho = skimage.img_as_float32(io.imread('Dataset/' + img_date + '.png'))\n",
    "    ortho_greeness = 2*ortho[:,:,1] - ortho[:,:,0] - ortho[:,:,2]\n",
    "    grd_truth = io.imread('Dataset/Ground truth/images/'+img_date+'.png',as_gray=True)\n",
    "    \n",
    "    return ortho,ortho_greeness,grd_truth"
   ]
  },
  {
   "cell_type": "code",
   "execution_count": null,
   "metadata": {},
   "outputs": [],
   "source": [
    "def read_field_structure(json_file):\n",
    "    with open(json_file, 'r') as j:\n",
    "            json_dict = json.load(j)\n",
    "    return json_dict\n",
    "\n",
    "def get_unit_field_structure(field_struct_dict):\n",
    "    box_height = field_struct_dict['plot_size_along_range']\n",
    "    box_width = field_struct_dict['plot_size_across_range'] \n",
    "    \n",
    "    range_gaps = field_struct_dict['range_gaps']\n",
    "    plot_gap = field_struct_dict['plot_gaps']\n",
    "    \n",
    "    num_plots = field_struct_dict['n_plots_per_range']\n",
    "    n_ranges = field_struct_dict['n_ranges']\n",
    "    \n",
    "    rep_col = np.tile(np.array([0,0,0,box_width]),(num_plots[0],1))\n",
    "    rep_col[:,0] = np.arange(0,(plot_gap[0]+box_height)*num_plots[0],plot_gap[0]+box_height)\n",
    "    rep_col[:,1] =  rep_col[:,0] + box_height\n",
    "    \n",
    "    whole_field = (np.tile(rep_col,(n_ranges,1)))\n",
    "    \n",
    "    for i in range(1,len(range_gaps)+1):\n",
    "        whole_field[i*39:(i+1)*39,2] = range_gaps[i-1]+whole_field[(i-1)*39:i*39,3]\n",
    "        whole_field[i*39:(i+1)*39,3] = box_width+whole_field[i*39:(i+1)*39,2]\n",
    "    \n",
    "    return (whole_field)\n",
    "#     return [box_height,box_width,num_plots,n_ranges,range_gaps,plot_gap]\n",
    "\n",
    "def get_scaled_bboxes_for_ortho(unit_field_size_array,corner_points_ortho):\n",
    "    width_unit = unit_field_size_array[-1][3] \n",
    "    height_unit = unit_field_size_array[-1][1] \n",
    "    \n",
    "    width,height = corner_points_ortho[-1] - corner_points_ortho[0]\n",
    "\n",
    "    h_ratio = height/height_unit\n",
    "    w_ratio = width/width_unit\n",
    "    \n",
    "    unit_field_final = np.array(unit_field_size_array,dtype=np.float32)\n",
    "    \n",
    "    unit_field_final[:,:2] = unit_field_size_array[:,:2]*h_ratio\n",
    "    unit_field_final[:,2:] = unit_field_size_array[:,2:]*w_ratio\n",
    "    \n",
    "    return np.round(unit_field_final)\n",
    "\n",
    "def get_corner_points(corner_csv):\n",
    "    df = pd.read_csv(corner_csv)\n",
    "    corners = (df.set_index(\"Date\")[['x1','y1','x2','y2']].T.to_dict('list'))\n",
    "    for c in corners:\n",
    "        yield((c,np.array([corners[c][:2],corners[c][2:]],dtype=int)))\n",
    "        "
   ]
  },
  {
   "cell_type": "code",
   "execution_count": null,
   "metadata": {},
   "outputs": [],
   "source": [
    "def get_bboxes(xml_file):\n",
    "    tree = ET.parse(xml_file)\n",
    "    root = tree.getroot()\n",
    "    bnd_boxes = []\n",
    "    for i in root.findall('object'):\n",
    "        for b in i.findall('bndbox'):\n",
    "            cur_box = []\n",
    "            for a in b:\n",
    "                cur_box.append(int(a.text))\n",
    "            bnd_boxes.append(cur_box)\n",
    "    return np.array(bnd_boxes)\n",
    "\n",
    "\n",
    "def Dice(predicted,grd_truth):\n",
    "    return 2*np.sum(np.logical_and(predicted,grd_truth))/(np.sum(predicted)+ np.sum(grd_truth))\n",
    "\n",
    "def objective(shifts,cur_pos):\n",
    "    i,k = int(shifts[0]),int(shifts[1])\n",
    "    \n",
    "    cur_ortho_greeness = cur_pos[4]\n",
    "    \n",
    "    gap_size = cur_pos[-4]\n",
    "    \n",
    "#     print(cur_pos[0]+i,cur_pos[1]+i,cur_pos[2]+k,cur_pos[3]+k)\n",
    "    \n",
    "    \n",
    "    cur_selection = cur_ortho_greeness[cur_pos[0]+i:cur_pos[1]+i,cur_pos[2]+k:cur_pos[3]+k]    \n",
    "    cur_selection[cur_selection<0]=0\n",
    "    \n",
    "    sum_ax_0 = np.sum(cur_selection,axis=0)\n",
    "    sum_ax_1 = np.sum(cur_selection,axis=1)\n",
    "    \n",
    "    min_ax_0 = np.min(sum_ax_0)/cur_selection.shape[0]\n",
    "    min_ax_1 = np.min(sum_ax_1)/cur_selection.shape[1]\n",
    "    \n",
    "    updated_pos = cur_pos[-2]\n",
    "    cur_plot_index = cur_pos[-1]  \n",
    "    \n",
    "    cur_plot = updated_pos[cur_plot_index]\n",
    "    nxt_plot = updated_pos[int((cur_plot_index + 1)%(39*6))]   \n",
    "    prv_plot = updated_pos[int((cur_plot_index - 1)%(39*6))] \n",
    "    \n",
    "\n",
    "    gap_n = np.abs(np.abs(cur_plot[0] - prv_plot[1]) - gap_size)/(2*gap_size) \n",
    "    evenness_cost = 1 - (np.exp(-4*gap_n))    \n",
    "    \n",
    "    alignment_cost = ((np.abs(cur_plot[2] - prv_plot[2]))/(2*gap_size))\n",
    "    \n",
    "#     print(evenness_cost)\n",
    "    \n",
    "    weight = np.copy(cur_pos[-3])\n",
    "    \n",
    "    if cur_pos[-1]%39==0:\n",
    "        weight[-1],weight[-2] = 0,0\n",
    "\n",
    "    cur_cost = np.array([(1-np.mean(cur_selection)),((abs(i)/(gap_size)+abs(k)/(gap_size))/2),(1-min_ax_0),(1-min_ax_1),(evenness_cost),(alignment_cost)])\n",
    "    \n",
    "    cost = np.dot(weight,cur_cost)\n",
    "    \n",
    "#     print(cost)\n",
    "    \n",
    "    return cost\n",
    "    \n",
    "    \n",
    "def estimate_bboxes(init_guess,ortho_img,weights=None):\n",
    "    if weights is None: weights = np.append(np.array([5]),np.random.dirichlet(np.ones(5)))\n",
    "    \n",
    "    inbeteween_gap = init_guess[1,0] - init_guess[0,1]  \n",
    "    \n",
    "    init_guess_updates = np.copy(init_guess)\n",
    "    ortho_sol = []    \n",
    "    bounds = [(-inbeteween_gap,inbeteween_gap),(-inbeteween_gap,inbeteween_gap)]\n",
    "    for plot_box in range(init_guess.shape[0]):\n",
    "        r_1,r_2,c_1,c_2 = init_guess[plot_box][0],init_guess[plot_box][1], init_guess[plot_box][2],init_guess[plot_box][3]\n",
    "        c_1,r_1,c_2,r_2 = int(c_1),int(r_1),int(c_2),int(r_2)\n",
    "        sol = differential_evolution(objective,bounds=bounds,args=([[r_1,r_2,c_1,c_2,ortho_img,inbeteween_gap,weights,init_guess_updates,plot_box]]))\n",
    "        i,k = sol.x\n",
    "#         selected_params.append(weights)\n",
    "        ortho_sol.append([r_1+np.rint(i),r_2+np.rint(i),c_1+np.rint(k),c_2+np.rint(k)])\n",
    "        init_guess_updates[plot_box] = np.array(ortho_sol[-1])\n",
    "        \n",
    "#         print(init_guess[plot_box])\n",
    "#         print(sol.x)\n",
    "#         return ([r_1+np.rint(i),r_2+np.rint(i),c_1+np.rint(k),c_2+np.rint(k)])\n",
    "        \n",
    "#         break\n",
    "    return np.array(ortho_sol)\n"
   ]
  },
  {
   "cell_type": "code",
   "execution_count": null,
   "metadata": {},
   "outputs": [],
   "source": [
    "def get_mask_ortho_pos(f,img_name):\n",
    "    df = pd.read_csv('csv/dataset_csv.csv')\n",
    "    cur = ( df[df['Date']==img_name][['x1','y1','x2','y2']].values).reshape((2,2))\n",
    "    bboxes_init_guess = get_scaled_bboxes_for_ortho(f,cur) + np.array([cur[0,1],cur[0,1],cur[0,0],cur[0,0]])  \n",
    "    return bboxes_init_guess"
   ]
  },
  {
   "cell_type": "code",
   "execution_count": null,
   "metadata": {},
   "outputs": [],
   "source": []
  },
  {
   "cell_type": "code",
   "execution_count": null,
   "metadata": {},
   "outputs": [],
   "source": [
    "ortho_08_12,ortho_greeness_08_12,grd_truth_08_12 = get_ortho_and_mask('2017-08-12')\n",
    "init_guess_08_12 = get_mask_ortho_pos(f,'2017-08-12')"
   ]
  },
  {
   "cell_type": "code",
   "execution_count": null,
   "metadata": {},
   "outputs": [],
   "source": [
    "ortho_07_07,ortho_greeness_07_07,grd_truth_07_07 = get_ortho_and_mask('2017-07-07')\n",
    "init_guess_07_07 = get_mask_ortho_pos(f,'2017-07-07')"
   ]
  },
  {
   "cell_type": "code",
   "execution_count": null,
   "metadata": {},
   "outputs": [],
   "source": []
  },
  {
   "cell_type": "code",
   "execution_count": null,
   "metadata": {},
   "outputs": [],
   "source": [
    "def weight_obj(cur_val,grd_t1,grd_t2): \n",
    "    print(cur_val)\n",
    "    sol_ortho2 = estimate_bboxes(init_guess_07_07,ortho_greeness_07_07,np.array(cur_val))\n",
    "    s = get_mask(sol_ortho2,ortho_greeness_07_07.shape)\n",
    "    \n",
    "    cur_overlap_1 = Dice(s>0.5,grd_t1>0.5)\n",
    "    \n",
    "    print(cur_overlap_1,'2017-07-07')\n",
    "    \n",
    "    sol_ortho2 = estimate_bboxes(init_guess_08_12,ortho_greeness_08_12,np.array(cur_val))\n",
    "    s = get_mask(sol_ortho2,ortho_greeness_08_12.shape)\n",
    "    \n",
    "    cur_overlap_2 = Dice(s>0.5,grd_t2>0.5)\n",
    "    print(cur_overlap_2,'2017-08-12')\n",
    "    print()\n",
    "    \n",
    "    return 1 - ((cur_overlap_1 + cur_overlap_2)/2)\n"
   ]
  },
  {
   "cell_type": "code",
   "execution_count": null,
   "metadata": {
    "scrolled": true
   },
   "outputs": [],
   "source": [
    "differential_evolution(weight_obj,bounds=[(0,1),(0,1),(0,1),(0,1),(0,1),(0,1)],args=[grd_truth_07_07,grd_truth_08_12])"
   ]
  },
  {
   "cell_type": "code",
   "execution_count": null,
   "metadata": {},
   "outputs": [],
   "source": []
  },
  {
   "cell_type": "code",
   "execution_count": null,
   "metadata": {},
   "outputs": [],
   "source": []
  },
  {
   "cell_type": "code",
   "execution_count": null,
   "metadata": {},
   "outputs": [],
   "source": []
  },
  {
   "cell_type": "code",
   "execution_count": null,
   "metadata": {},
   "outputs": [],
   "source": []
  },
  {
   "cell_type": "code",
   "execution_count": null,
   "metadata": {},
   "outputs": [],
   "source": []
  },
  {
   "cell_type": "code",
   "execution_count": null,
   "metadata": {},
   "outputs": [],
   "source": [
    "results = pd.read_csv('weight_search_out.csv',header=None)"
   ]
  },
  {
   "cell_type": "code",
   "execution_count": null,
   "metadata": {},
   "outputs": [],
   "source": [
    "results.head()"
   ]
  },
  {
   "cell_type": "code",
   "execution_count": null,
   "metadata": {},
   "outputs": [],
   "source": [
    "best_results = results[results[6] > .89]"
   ]
  },
  {
   "cell_type": "code",
   "execution_count": null,
   "metadata": {},
   "outputs": [],
   "source": [
    "# ortho_07_26,ortho_greeness_07_26,grd_truth_07_26 = get_ortho_and_mask('2017-08-12')\n",
    "# init_guess_07_26 = get_mask_ortho_pos(f,'2017-08-12')"
   ]
  },
  {
   "cell_type": "code",
   "execution_count": null,
   "metadata": {},
   "outputs": [],
   "source": [
    "for i,r in best_results.iterrows():\n",
    "    weight_cur = r.values[:-1]\n",
    "    \n",
    "    print(weight_cur)\n",
    "    \n",
    "    avg_weight = []    \n",
    "    for d in ds.Date:\n",
    "        try:\n",
    "            ortho_07_26,ortho_greeness_07_26,grd_truth_07_26 = get_ortho_and_mask(d)\n",
    "            init_guess_07_26 = get_mask_ortho_pos(f,d)\n",
    "\n",
    "            ortho_sol = estimate_bboxes(init_guess_07_26,ortho_greeness_07_26,np.array(weight_cur))\n",
    "\n",
    "            s = get_mask(ortho_sol,ortho_greeness_07_26.shape)\n",
    "            cur_dice = (Dice(s>0.5,grd_truth_07_26>0.5),d)\n",
    "            avg_weight.append(cur_dice[0])\n",
    "            print(cur_dice)\n",
    "        except:\n",
    "            pass\n",
    "    print('average: ',np.array(avg_weight).mean())\n",
    "    print()"
   ]
  },
  {
   "cell_type": "code",
   "execution_count": null,
   "metadata": {},
   "outputs": [],
   "source": []
  }
 ],
 "metadata": {
  "kernelspec": {
   "display_name": "Python 3",
   "language": "python",
   "name": "python3"
  },
  "language_info": {
   "codemirror_mode": {
    "name": "ipython",
    "version": 3
   },
   "file_extension": ".py",
   "mimetype": "text/x-python",
   "name": "python",
   "nbconvert_exporter": "python",
   "pygments_lexer": "ipython3",
   "version": "3.7.3"
  }
 },
 "nbformat": 4,
 "nbformat_minor": 2
}
